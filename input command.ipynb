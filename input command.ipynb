{
 "cells": [
  {
   "cell_type": "code",
   "execution_count": 1,
   "id": "d7efb31c",
   "metadata": {},
   "outputs": [
    {
     "ename": "SyntaxError",
     "evalue": "invalid syntax (<ipython-input-1-22596363b3de>, line 1)",
     "output_type": "error",
     "traceback": [
      "\u001b[1;36m  File \u001b[1;32m\"<ipython-input-1-22596363b3de>\"\u001b[1;36m, line \u001b[1;32m1\u001b[0m\n\u001b[1;33m    hello world\u001b[0m\n\u001b[1;37m          ^\u001b[0m\n\u001b[1;31mSyntaxError\u001b[0m\u001b[1;31m:\u001b[0m invalid syntax\n"
     ]
    }
   ],
   "source": [
    "hello world"
   ]
  },
  {
   "cell_type": "code",
   "execution_count": 2,
   "id": "cd065360",
   "metadata": {},
   "outputs": [
    {
     "data": {
      "text/plain": [
       "4"
      ]
     },
     "execution_count": 2,
     "metadata": {},
     "output_type": "execute_result"
    }
   ],
   "source": [
    "2+2"
   ]
  },
  {
   "cell_type": "code",
   "execution_count": 3,
   "id": "5ebcb91e",
   "metadata": {},
   "outputs": [
    {
     "name": "stdout",
     "output_type": "stream",
     "text": [
      "hello world\n"
     ]
    }
   ],
   "source": [
    "n=\"hello world\"\n",
    "print(n)"
   ]
  },
  {
   "cell_type": "code",
   "execution_count": 4,
   "id": "9adca665",
   "metadata": {},
   "outputs": [
    {
     "name": "stdout",
     "output_type": "stream",
     "text": [
      "my name\n"
     ]
    }
   ],
   "source": [
    "print(\"my name\")"
   ]
  },
  {
   "cell_type": "code",
   "execution_count": 5,
   "id": "52e3c64d",
   "metadata": {},
   "outputs": [
    {
     "name": "stdout",
     "output_type": "stream",
     "text": [
      "please enter your first and last name hereoluwo lateef\n"
     ]
    }
   ],
   "source": [
    "your_name=input(\"please enter your first and last name here\")"
   ]
  },
  {
   "cell_type": "code",
   "execution_count": 6,
   "id": "aaf19a1f",
   "metadata": {},
   "outputs": [
    {
     "name": "stdout",
     "output_type": "stream",
     "text": [
      "oluwo lateef\n"
     ]
    }
   ],
   "source": [
    "print(your_name)"
   ]
  },
  {
   "cell_type": "code",
   "execution_count": 7,
   "id": "89287bc9",
   "metadata": {},
   "outputs": [
    {
     "name": "stdout",
     "output_type": "stream",
     "text": [
      "enter your nameanthony mercy\n",
      "anthony mercy\n"
     ]
    }
   ],
   "source": [
    "print(input(\"enter your name\"))"
   ]
  },
  {
   "cell_type": "code",
   "execution_count": 8,
   "id": "235bbe82",
   "metadata": {},
   "outputs": [
    {
     "ename": "ValueError",
     "evalue": "invalid literal for int() with base 10: 'enter a valid number'",
     "output_type": "error",
     "traceback": [
      "\u001b[1;31m---------------------------------------------------------------------------\u001b[0m",
      "\u001b[1;31mValueError\u001b[0m                                Traceback (most recent call last)",
      "\u001b[1;32m<ipython-input-8-d823c3358274>\u001b[0m in \u001b[0;36m<module>\u001b[1;34m\u001b[0m\n\u001b[1;32m----> 1\u001b[1;33m \u001b[0mdob\u001b[0m\u001b[1;33m=\u001b[0m\u001b[0minput\u001b[0m\u001b[1;33m(\u001b[0m\u001b[0mint\u001b[0m\u001b[1;33m(\u001b[0m\u001b[1;34m\"enter a valid number\"\u001b[0m\u001b[1;33m)\u001b[0m\u001b[1;33m)\u001b[0m\u001b[1;33m\u001b[0m\u001b[1;33m\u001b[0m\u001b[0m\n\u001b[0m",
      "\u001b[1;31mValueError\u001b[0m: invalid literal for int() with base 10: 'enter a valid number'"
     ]
    }
   ],
   "source": [
    "dob=input(int())"
   ]
  },
  {
   "cell_type": "code",
   "execution_count": 9,
   "id": "24f3b020",
   "metadata": {},
   "outputs": [
    {
     "name": "stdout",
     "output_type": "stream",
     "text": [
      "enter your age17\n"
     ]
    }
   ],
   "source": [
    "age=int(input(\"enter your age\"))"
   ]
  },
  {
   "cell_type": "code",
   "execution_count": 11,
   "id": "3036aba3",
   "metadata": {},
   "outputs": [
    {
     "name": "stdout",
     "output_type": "stream",
     "text": [
      "oluwo lateef will be 117 years old in hundred years time\n"
     ]
    }
   ],
   "source": [
    "print(your_name, \"will be\", age+100, \"years old in hundred years time\")"
   ]
  },
  {
   "cell_type": "code",
   "execution_count": null,
   "id": "eb0e3da0",
   "metadata": {},
   "outputs": [],
   "source": [
    "import datetime\n",
    "\n",
    "now = datetime.datetime.now()\n",
    "\n",
    "name = input(\"Hey, what's your name?\\n\")\n",
    "age = int(input(\"Okay {}, how old are you?\\n\".format(name.title())))\n",
    "\n",
    "yrs = (now.year +100) - age\n",
    "\n",
    "msg = \"Okay {}, so if you're {} now then you should turn 100 in the year {}\".format(name.title(),age,yrs)\n",
    "\n",
    "print(msg)\n",
    "\n",
    "n = int(input(\"Okay {}, give me a number\\n\".format(name)))\n",
    "\n",
    "print(msg * n)\n",
    "print(\"Or does this look nicer?\")\n",
    "msg += \"\\n\"\n",
    "print(msg * n)"
   ]
  },
  {
   "cell_type": "code",
   "execution_count": 14,
   "id": "e28a53f3",
   "metadata": {},
   "outputs": [
    {
     "name": "stdout",
     "output_type": "stream",
     "text": [
      "Hey,what's your name?Anthony mercy\n",
      "okay, how old are you?20\n",
      "Okay, so if you're 20 now, then you should turn 100 in the year 2101\n"
     ]
    }
   ],
   "source": [
    "import datetime\n",
    "now = datetime.datetime.now()\n",
    "name = input(\"Hey,what's your name?\")\n",
    "age = int(input(\"okay, how old are you?\"))\n",
    "yrs = (now.year +100) - age\n",
    "print(\"Okay, so if you're\", age, \"now, then you should turn 100 in the year\", yrs)\n"
   ]
  },
  {
   "cell_type": "code",
   "execution_count": 20,
   "id": "16c24901",
   "metadata": {},
   "outputs": [
    {
     "name": "stdout",
     "output_type": "stream",
     "text": [
      "enter a number to check if its a odd or even number: 12\n",
      "12  is an odd number\n"
     ]
    }
   ],
   "source": [
    "num=int(input(\"enter a number to check if its a odd or even number: \"))\n",
    "if num%=0:\n",
    "    print(\"you entered\", num,\" which is an even number\")\n",
    "else:\n",
    "    print(num, \" is an odd number\")"
   ]
  },
  {
   "cell_type": "code",
   "execution_count": 23,
   "id": "f75abcbf",
   "metadata": {},
   "outputs": [
    {
     "name": "stdout",
     "output_type": "stream",
     "text": [
      "enter a number to check if its a odd or even number: 15\n",
      "at your age 15  face your studies\n"
     ]
    }
   ],
   "source": [
    "num=int(input(\"enter a number to check if its a odd or even number: \"))\n",
    "if num<18:\n",
    "    print(\"at your age\", num,\" face your studies\")\n",
    "else:\n",
    "    print(\"go and marry, what are you waiting for\")"
   ]
  },
  {
   "cell_type": "code",
   "execution_count": 24,
   "id": "17cd39dd",
   "metadata": {},
   "outputs": [
    {
     "data": {
      "text/plain": [
       "2"
      ]
     },
     "execution_count": 24,
     "metadata": {},
     "output_type": "execute_result"
    }
   ],
   "source": [
    "5//2"
   ]
  },
  {
   "cell_type": "code",
   "execution_count": 25,
   "id": "3555c228",
   "metadata": {},
   "outputs": [
    {
     "data": {
      "text/plain": [
       "2.5"
      ]
     },
     "execution_count": 25,
     "metadata": {},
     "output_type": "execute_result"
    }
   ],
   "source": [
    "5/2"
   ]
  },
  {
   "cell_type": "code",
   "execution_count": 26,
   "id": "98c3191b",
   "metadata": {},
   "outputs": [
    {
     "name": "stdout",
     "output_type": "stream",
     "text": [
      "it's an odd number\n"
     ]
    }
   ],
   "source": [
    "word = 5\n",
    "if word%2==0:\n",
    "    print(\"it is an even number\")\n",
    "else:\n",
    "    print(\"it's an odd number\")"
   ]
  },
  {
   "cell_type": "code",
   "execution_count": 27,
   "id": "c9e05c3d",
   "metadata": {},
   "outputs": [
    {
     "name": "stdout",
     "output_type": "stream",
     "text": [
      "[2, 4]\n"
     ]
    }
   ],
   "source": [
    "list1=[2,4,6,8,9,10,12,14,16]\n",
    "list2= []\n",
    "for i in list1:\n",
    "    if i <5:\n",
    "        list2.append(i)\n",
    "print(list2)\n",
    "        "
   ]
  },
  {
   "cell_type": "code",
   "execution_count": 30,
   "id": "a7e6580a",
   "metadata": {},
   "outputs": [
    {
     "name": "stdout",
     "output_type": "stream",
     "text": [
      "range(1, 100)\n"
     ]
    }
   ],
   "source": [
    "rng=range(1,100)\n",
    "print(rng)\n"
   ]
  },
  {
   "cell_type": "code",
   "execution_count": 31,
   "id": "8ece1d13",
   "metadata": {},
   "outputs": [
    {
     "name": "stdout",
     "output_type": "stream",
     "text": [
      "[1, 1, 2, 3]\n"
     ]
    }
   ],
   "source": [
    "print (list(filter(lambda x: x < 5, [1, 1, 2, 3, 5, 8, 13, 21, 34, 55, 89])))"
   ]
  },
  {
   "cell_type": "code",
   "execution_count": 33,
   "id": "084b9c21",
   "metadata": {},
   "outputs": [
    {
     "name": "stdout",
     "output_type": "stream",
     "text": [
      "range(1, 10)\n"
     ]
    }
   ],
   "source": [
    "x=range(1,10)\n",
    "print(x)"
   ]
  },
  {
   "cell_type": "code",
   "execution_count": 40,
   "id": "4835d66f",
   "metadata": {},
   "outputs": [
    {
     "name": "stdout",
     "output_type": "stream",
     "text": [
      "enter a number greater than 10 12\n",
      "[1, 2, 3, 4, 6]\n"
     ]
    }
   ],
   "source": [
    "x = int(input(\"enter a number greater than 10 \"))\n",
    "num= range(1,x)\n",
    "num1=[]\n",
    "for i in num:\n",
    "    if x%i==0:\n",
    "        num1.append(i)\n",
    "        \n",
    "print(num1)"
   ]
  },
  {
   "cell_type": "code",
   "execution_count": null,
   "id": "09cc09c6",
   "metadata": {},
   "outputs": [],
   "source": []
  }
 ],
 "metadata": {
  "kernelspec": {
   "display_name": "Python 3",
   "language": "python",
   "name": "python3"
  },
  "language_info": {
   "codemirror_mode": {
    "name": "ipython",
    "version": 3
   },
   "file_extension": ".py",
   "mimetype": "text/x-python",
   "name": "python",
   "nbconvert_exporter": "python",
   "pygments_lexer": "ipython3",
   "version": "3.8.8"
  }
 },
 "nbformat": 4,
 "nbformat_minor": 5
}
